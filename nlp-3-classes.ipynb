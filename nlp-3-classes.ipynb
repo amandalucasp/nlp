{
 "cells": [
  {
   "cell_type": "markdown",
   "metadata": {},
   "source": [
    "# problema com 3 classes"
   ]
  },
  {
   "cell_type": "markdown",
   "metadata": {},
   "source": [
    "## 1. Aquisição de dados:\n",
    "\n",
    "Foi escolhido o dataset \"Portuguese Tweets for Sentiment Analysis\".\n",
    "Disponível em https://www.kaggle.com/augustop/portuguese-tweets-for-sentiment-analysis.\n",
    "\n",
    "Training datasets:\n",
    "\n",
    "- 50k, 100k, 200k, 300k, 400k, 500k positive and negative tweets without any theme\n",
    "- 50k positive and negative tweets with political tweets\n",
    "- 100k positive, negative and neutral tweets without any theme\n",
    "\n",
    "Test datasets:\n",
    "\n",
    "- 5k positive and negative tweets without any theme\n",
    "- 5k positive and negative tweets with political tweets\n",
    "- 5k positive, negative and neutral tweets without theme\n",
    "\n",
    "All of them have an equal number of instances between classes. Their sentiment labels were transformed as follow:\n",
    "\n",
    "- Negative label: 0\n",
    "- Positive label: 1\n",
    "- Neutral label: 2"
   ]
  },
  {
   "cell_type": "markdown",
   "metadata": {},
   "source": [
    "## 2. Visualização dos dados:"
   ]
  },
  {
   "cell_type": "code",
   "execution_count": 19,
   "metadata": {},
   "outputs": [],
   "source": [
    "import pandas as pd\n",
    "import seaborn"
   ]
  },
  {
   "cell_type": "code",
   "execution_count": 20,
   "metadata": {},
   "outputs": [],
   "source": [
    "training_data = pd.read_csv('./data/TrainingDatasets/Train3Classes.csv', sep=';')\n",
    "test_data = pd.read_csv('./data/TestDatasets/Test3Classes.csv', sep=';')"
   ]
  },
  {
   "cell_type": "code",
   "execution_count": 21,
   "metadata": {},
   "outputs": [
    {
     "name": "stdout",
     "output_type": "stream",
     "text": [
      "<class 'pandas.core.frame.DataFrame'>\n",
      "RangeIndex: 100000 entries, 0 to 99999\n",
      "Data columns (total 5 columns):\n",
      " #   Column      Non-Null Count   Dtype \n",
      "---  ------      --------------   ----- \n",
      " 0   id          100000 non-null  int64 \n",
      " 1   tweet_text  100000 non-null  object\n",
      " 2   tweet_date  100000 non-null  object\n",
      " 3   sentiment   100000 non-null  int64 \n",
      " 4   query_used  100000 non-null  object\n",
      "dtypes: int64(2), object(3)\n",
      "memory usage: 3.8+ MB\n",
      "<class 'pandas.core.frame.DataFrame'>\n",
      "RangeIndex: 4999 entries, 0 to 4998\n",
      "Data columns (total 5 columns):\n",
      " #   Column      Non-Null Count  Dtype \n",
      "---  ------      --------------  ----- \n",
      " 0   id          4999 non-null   int64 \n",
      " 1   tweet_text  4999 non-null   object\n",
      " 2   tweet_date  4999 non-null   object\n",
      " 3   sentiment   4999 non-null   int64 \n",
      " 4   query_used  4999 non-null   object\n",
      "dtypes: int64(2), object(3)\n",
      "memory usage: 195.4+ KB\n"
     ]
    },
    {
     "data": {
      "text/plain": [
       "(None, None)"
      ]
     },
     "execution_count": 21,
     "metadata": {},
     "output_type": "execute_result"
    }
   ],
   "source": [
    "training_data.info(), test_data.info()"
   ]
  },
  {
   "cell_type": "code",
   "execution_count": 22,
   "metadata": {},
   "outputs": [
    {
     "data": {
      "text/html": [
       "<div>\n",
       "<style scoped>\n",
       "    .dataframe tbody tr th:only-of-type {\n",
       "        vertical-align: middle;\n",
       "    }\n",
       "\n",
       "    .dataframe tbody tr th {\n",
       "        vertical-align: top;\n",
       "    }\n",
       "\n",
       "    .dataframe thead th {\n",
       "        text-align: right;\n",
       "    }\n",
       "</style>\n",
       "<table border=\"1\" class=\"dataframe\">\n",
       "  <thead>\n",
       "    <tr style=\"text-align: right;\">\n",
       "      <th></th>\n",
       "      <th>id</th>\n",
       "      <th>tweet_text</th>\n",
       "      <th>tweet_date</th>\n",
       "      <th>sentiment</th>\n",
       "      <th>query_used</th>\n",
       "    </tr>\n",
       "  </thead>\n",
       "  <tbody>\n",
       "    <tr>\n",
       "      <th>0</th>\n",
       "      <td>1050785521201541121</td>\n",
       "      <td>@Laranjito76 A pessoa certa para isso seria o ...</td>\n",
       "      <td>Fri Oct 12 16:29:25 +0000 2018</td>\n",
       "      <td>1</td>\n",
       "      <td>:)</td>\n",
       "    </tr>\n",
       "    <tr>\n",
       "      <th>1</th>\n",
       "      <td>1050785431955140608</td>\n",
       "      <td>@behin_d_curtain Para mim, é precisamente o co...</td>\n",
       "      <td>Fri Oct 12 16:29:04 +0000 2018</td>\n",
       "      <td>1</td>\n",
       "      <td>:)</td>\n",
       "    </tr>\n",
       "    <tr>\n",
       "      <th>2</th>\n",
       "      <td>1050785401248645120</td>\n",
       "      <td>Vou fazer um video hoje... estou pensando em f...</td>\n",
       "      <td>Fri Oct 12 16:28:56 +0000 2018</td>\n",
       "      <td>1</td>\n",
       "      <td>:)</td>\n",
       "    </tr>\n",
       "    <tr>\n",
       "      <th>3</th>\n",
       "      <td>1050785370982547461</td>\n",
       "      <td>aaaaaaaa amei tanto essas polaroids, nem sei e...</td>\n",
       "      <td>Fri Oct 12 16:28:49 +0000 2018</td>\n",
       "      <td>1</td>\n",
       "      <td>:)</td>\n",
       "    </tr>\n",
       "    <tr>\n",
       "      <th>4</th>\n",
       "      <td>1050785368902131713</td>\n",
       "      <td>Valoriza o coração do menininho que vc tem. El...</td>\n",
       "      <td>Fri Oct 12 16:28:49 +0000 2018</td>\n",
       "      <td>1</td>\n",
       "      <td>:)</td>\n",
       "    </tr>\n",
       "  </tbody>\n",
       "</table>\n",
       "</div>"
      ],
      "text/plain": [
       "                    id                                         tweet_text  \\\n",
       "0  1050785521201541121  @Laranjito76 A pessoa certa para isso seria o ...   \n",
       "1  1050785431955140608  @behin_d_curtain Para mim, é precisamente o co...   \n",
       "2  1050785401248645120  Vou fazer um video hoje... estou pensando em f...   \n",
       "3  1050785370982547461  aaaaaaaa amei tanto essas polaroids, nem sei e...   \n",
       "4  1050785368902131713  Valoriza o coração do menininho que vc tem. El...   \n",
       "\n",
       "                       tweet_date  sentiment query_used  \n",
       "0  Fri Oct 12 16:29:25 +0000 2018          1         :)  \n",
       "1  Fri Oct 12 16:29:04 +0000 2018          1         :)  \n",
       "2  Fri Oct 12 16:28:56 +0000 2018          1         :)  \n",
       "3  Fri Oct 12 16:28:49 +0000 2018          1         :)  \n",
       "4  Fri Oct 12 16:28:49 +0000 2018          1         :)  "
      ]
     },
     "execution_count": 22,
     "metadata": {},
     "output_type": "execute_result"
    }
   ],
   "source": [
    "training_data.head()"
   ]
  },
  {
   "cell_type": "code",
   "execution_count": 23,
   "metadata": {},
   "outputs": [
    {
     "data": {
      "text/plain": [
       "1    33334\n",
       "2    33333\n",
       "0    33333\n",
       "Name: sentiment, dtype: int64"
      ]
     },
     "execution_count": 23,
     "metadata": {},
     "output_type": "execute_result"
    }
   ],
   "source": [
    "training_data['sentiment'].value_counts()"
   ]
  },
  {
   "cell_type": "code",
   "execution_count": 24,
   "metadata": {},
   "outputs": [
    {
     "data": {
      "text/html": [
       "<div>\n",
       "<style scoped>\n",
       "    .dataframe tbody tr th:only-of-type {\n",
       "        vertical-align: middle;\n",
       "    }\n",
       "\n",
       "    .dataframe tbody tr th {\n",
       "        vertical-align: top;\n",
       "    }\n",
       "\n",
       "    .dataframe thead th {\n",
       "        text-align: right;\n",
       "    }\n",
       "</style>\n",
       "<table border=\"1\" class=\"dataframe\">\n",
       "  <thead>\n",
       "    <tr style=\"text-align: right;\">\n",
       "      <th></th>\n",
       "      <th>id</th>\n",
       "      <th>tweet_text</th>\n",
       "      <th>tweet_date</th>\n",
       "      <th>sentiment</th>\n",
       "      <th>query_used</th>\n",
       "    </tr>\n",
       "  </thead>\n",
       "  <tbody>\n",
       "    <tr>\n",
       "      <th>0</th>\n",
       "      <td>1029536486021099522</td>\n",
       "      <td>@Gazo1a Nossa! Muito obrigada :)</td>\n",
       "      <td>Wed Aug 15 01:13:20 +0000 2018</td>\n",
       "      <td>1</td>\n",
       "      <td>:)</td>\n",
       "    </tr>\n",
       "    <tr>\n",
       "      <th>1</th>\n",
       "      <td>1029536496368406528</td>\n",
       "      <td>@BerzGamer vai pa puta que te pariu :)</td>\n",
       "      <td>Wed Aug 15 01:13:23 +0000 2018</td>\n",
       "      <td>1</td>\n",
       "      <td>:)</td>\n",
       "    </tr>\n",
       "    <tr>\n",
       "      <th>2</th>\n",
       "      <td>1029536531655131137</td>\n",
       "      <td>QUER MAIS DESCONTOS? (14/08) ⭐⭐⭐⭐⭐ 🌐 Confira n...</td>\n",
       "      <td>Wed Aug 15 01:13:31 +0000 2018</td>\n",
       "      <td>1</td>\n",
       "      <td>:)</td>\n",
       "    </tr>\n",
       "    <tr>\n",
       "      <th>3</th>\n",
       "      <td>1029536560117678081</td>\n",
       "      <td>EU VOU PEGAR VCS, ME AJUDEM GALERA, PELO AMOR ...</td>\n",
       "      <td>Wed Aug 15 01:13:38 +0000 2018</td>\n",
       "      <td>1</td>\n",
       "      <td>:)</td>\n",
       "    </tr>\n",
       "    <tr>\n",
       "      <th>4</th>\n",
       "      <td>1029536605852377088</td>\n",
       "      <td>Estávamos em casa do Zé e eu estava a morrer d...</td>\n",
       "      <td>Wed Aug 15 01:13:49 +0000 2018</td>\n",
       "      <td>1</td>\n",
       "      <td>:)</td>\n",
       "    </tr>\n",
       "  </tbody>\n",
       "</table>\n",
       "</div>"
      ],
      "text/plain": [
       "                    id                                         tweet_text  \\\n",
       "0  1029536486021099522                   @Gazo1a Nossa! Muito obrigada :)   \n",
       "1  1029536496368406528             @BerzGamer vai pa puta que te pariu :)   \n",
       "2  1029536531655131137  QUER MAIS DESCONTOS? (14/08) ⭐⭐⭐⭐⭐ 🌐 Confira n...   \n",
       "3  1029536560117678081  EU VOU PEGAR VCS, ME AJUDEM GALERA, PELO AMOR ...   \n",
       "4  1029536605852377088  Estávamos em casa do Zé e eu estava a morrer d...   \n",
       "\n",
       "                       tweet_date  sentiment query_used  \n",
       "0  Wed Aug 15 01:13:20 +0000 2018          1         :)  \n",
       "1  Wed Aug 15 01:13:23 +0000 2018          1         :)  \n",
       "2  Wed Aug 15 01:13:31 +0000 2018          1         :)  \n",
       "3  Wed Aug 15 01:13:38 +0000 2018          1         :)  \n",
       "4  Wed Aug 15 01:13:49 +0000 2018          1         :)  "
      ]
     },
     "execution_count": 24,
     "metadata": {},
     "output_type": "execute_result"
    }
   ],
   "source": [
    "test_data.head()"
   ]
  },
  {
   "cell_type": "code",
   "execution_count": 25,
   "metadata": {},
   "outputs": [
    {
     "data": {
      "text/plain": [
       "1    1667\n",
       "2    1666\n",
       "0    1666\n",
       "Name: sentiment, dtype: int64"
      ]
     },
     "execution_count": 25,
     "metadata": {},
     "output_type": "execute_result"
    }
   ],
   "source": [
    "test_data['sentiment'].value_counts()"
   ]
  },
  {
   "cell_type": "code",
   "execution_count": 26,
   "metadata": {
    "scrolled": true
   },
   "outputs": [
    {
     "data": {
      "text/plain": [
       "Text(0.5, 1.0, 'query used - training data')"
      ]
     },
     "execution_count": 26,
     "metadata": {},
     "output_type": "execute_result"
    },
    {
     "data": {
      "image/png": "[encoded data removed]",
      "text/plain": [
       "<Figure size 432x288 with 1 Axes>"
      ]
     },
     "metadata": {
      "needs_background": "light"
     },
     "output_type": "display_data"
    }
   ],
   "source": [
    "ax = seaborn.countplot(y='query_used', data=training_data)\n",
    "ax.set_title('query used - training data')"
   ]
  },
  {
   "cell_type": "code",
   "execution_count": 27,
   "metadata": {},
   "outputs": [
    {
     "data": {
      "text/plain": [
       "Text(0.5, 1.0, 'query used - testing data')"
      ]
     },
     "execution_count": 27,
     "metadata": {},
     "output_type": "execute_result"
    },
    {
     "data": {
      "image/png": "[encoded data removed]",
      "text/plain": [
       "<Figure size 432x288 with 1 Axes>"
      ]
     },
     "metadata": {
      "needs_background": "light"
     },
     "output_type": "display_data"
    }
   ],
   "source": [
    "ax = seaborn.countplot(y='query_used', data=test_data)\n",
    "ax.set_title('query used - testing data')"
   ]
  },
  {
   "cell_type": "code",
   "execution_count": 28,
   "metadata": {},
   "outputs": [
    {
     "data": {
      "image/png": "[encoded data removed]",
      "text/plain": [
       "<Figure size 604.8x288 with 3 Axes>"
      ]
     },
     "metadata": {
      "needs_background": "light"
     },
     "output_type": "display_data"
    }
   ],
   "source": [
    "seaborn.catplot(y=\"query_used\", col=\"sentiment\", data=training_data, kind=\"count\", height=4, aspect=.7);"
   ]
  },
  {
   "cell_type": "markdown",
   "metadata": {},
   "source": [
    "## 3. Pré-processamento e Processamento dos dados:"
   ]
  },
  {
   "cell_type": "markdown",
   "metadata": {},
   "source": [
    "### pré-processamento"
   ]
  },
  {
   "cell_type": "code",
   "execution_count": 29,
   "metadata": {},
   "outputs": [],
   "source": [
    "training_tweets = training_data.loc[:, 'tweet_text'].values\n",
    "training_labels = training_data.loc[:, 'sentiment'].values\n",
    "\n",
    "testing_tweets = test_data.loc[:, 'tweet_text'].values\n",
    "testing_labels = test_data.loc[:, 'sentiment'].values"
   ]
  },
  {
   "cell_type": "code",
   "execution_count": 30,
   "metadata": {},
   "outputs": [
    {
     "data": {
      "text/plain": [
       "(array([1, 1, 1, 1, 1]), array([1, 1, 1, 1, 1]))"
      ]
     },
     "execution_count": 30,
     "metadata": {},
     "output_type": "execute_result"
    }
   ],
   "source": [
    "training_labels[0:5], testing_labels[0:5]"
   ]
  },
  {
   "cell_type": "code",
   "execution_count": 31,
   "metadata": {
    "scrolled": true
   },
   "outputs": [
    {
     "name": "stderr",
     "output_type": "stream",
     "text": [
      "[nltk_data] Downloading package stopwords to\n",
      "[nltk_data]     /Users/amanda/nltk_data...\n",
      "[nltk_data]   Package stopwords is already up-to-date!\n",
      "[nltk_data] Downloading package rslp to /Users/amanda/nltk_data...\n",
      "[nltk_data]   Package rslp is already up-to-date!\n"
     ]
    }
   ],
   "source": [
    "import string\n",
    "import nltk\n",
    "from nltk.tokenize import TweetTokenizer\n",
    "import re\n",
    "\n",
    "\n",
    "tokenizer = TweetTokenizer(preserve_case=False)\n",
    "\n",
    "# baixando as stopwords\n",
    "nltk.download('stopwords')\n",
    "stopwords = nltk.corpus.stopwords.words('portuguese')\n",
    "\n",
    "# baixando o stemmer \n",
    "nltk.download('rslp')\n",
    "from nltk.stem import RSLPStemmer\n",
    "stemmer = nltk.stem.RSLPStemmer()\n",
    "\n",
    "# tratamento de emoticons\n",
    "from emot.emo_unicode import UNICODE_EMO, EMOTICONS"
   ]
  },
  {
   "cell_type": "code",
   "execution_count": 32,
   "metadata": {},
   "outputs": [],
   "source": [
    "# source: https://towardsdatascience.com/text-preprocessing-for-data-scientist-3d2419c8199d\n",
    "\n",
    "# Converting emojis to words\n",
    "def convert_emojis(text):\n",
    "    for emot in UNICODE_EMO:\n",
    "        text = text.replace(emot, \"_\".join(UNICODE_EMO[emot].replace(\",\",\"\").replace(\":\",\"\").split()))\n",
    "    return text\n",
    "    \n",
    "# Converting emoticons to words    \n",
    "def convert_emoticons(text):\n",
    "    for emot in EMOTICONS:\n",
    "        text = re.sub(u'('+emot+')', \"_\".join(EMOTICONS[emot].replace(\",\",\"\").split()), text)\n",
    "    return text"
   ]
  },
  {
   "cell_type": "code",
   "execution_count": 33,
   "metadata": {},
   "outputs": [],
   "source": [
    "def preprocessing(tweets):\n",
    "    progress = 1\n",
    "    total = len(tweets)\n",
    "    processed_tweets = []\n",
    "    \n",
    "    for tweet in tweets:\n",
    "        print('[ ' + str(progress) + ' / ' + str(total) + ' ]', end='\\r')\n",
    "        #print(tweet)\n",
    "        processed_tweet = []\n",
    "        # remove urls\n",
    "        tweet = re.sub(r'(https|http)?:\\/\\/(\\w|\\.|\\/|\\?|\\=|\\&|\\%)*\\b', '', tweet)\n",
    "        # remove hashtags\n",
    "        tweet = re.sub(r'#[\\w]*', '', tweet)\n",
    "        # remove @\n",
    "        tweet = re.sub(r'@[\\w]*', '', tweet)\n",
    "        # 'translate' emojis/emoticons\n",
    "        tweet = convert_emojis(tweet)\n",
    "        tweet = convert_emoticons(tweet)\n",
    "        \n",
    "        tweet_tokens = tokenizer.tokenize(tweet)\n",
    "        \n",
    "        for word in tweet_tokens: \n",
    "            if (word not in stopwords and word not in string.punctuation):\n",
    "                stem_word = stemmer.stem(word)\n",
    "                processed_tweet.append(stem_word)\n",
    "        \n",
    "        #print(processed_tweet, end='\\n\\n')\n",
    "        processed_tweets.append(processed_tweet)\n",
    "        \n",
    "        progress += 1\n",
    "\n",
    "    return processed_tweets"
   ]
  },
  {
   "cell_type": "code",
   "execution_count": 34,
   "metadata": {
    "scrolled": true
   },
   "outputs": [
    {
     "name": "stdout",
     "output_type": "stream",
     "text": [
      "[ 1 / 3 ]\r",
      "[ 2 / 3 ]\r",
      "[ 3 / 3 ]\r"
     ]
    },
    {
     "data": {
      "text/plain": [
       "('@Laranjito76 A pessoa certa para isso seria o vale e azevedo :)',\n",
       " ['pesso', 'cert', 'val', 'azeved', 'happy_face_or_smiley'])"
      ]
     },
     "execution_count": 34,
     "metadata": {},
     "output_type": "execute_result"
    }
   ],
   "source": [
    "tweets_sample = training_tweets[0:3]\n",
    "sample = preprocessing(tweets_sample)\n",
    "tweets_sample[0], sample[0]"
   ]
  },
  {
   "cell_type": "code",
   "execution_count": 35,
   "metadata": {},
   "outputs": [
    {
     "name": "stdout",
     "output_type": "stream",
     "text": [
      "[ 4999 / 4999 ]\r"
     ]
    }
   ],
   "source": [
    "testing_tweets_ = preprocessing(testing_tweets)"
   ]
  },
  {
   "cell_type": "code",
   "execution_count": 36,
   "metadata": {},
   "outputs": [
    {
     "name": "stdout",
     "output_type": "stream",
     "text": [
      "[ 100000 / 100000 ]\r"
     ]
    }
   ],
   "source": [
    "training_tweets_ = preprocessing(training_tweets)"
   ]
  },
  {
   "cell_type": "code",
   "execution_count": 37,
   "metadata": {},
   "outputs": [],
   "source": [
    "def untokenize_tweets(tweet_tokens):\n",
    "    untokenized_tweets = []\n",
    "    for tweet in tweet_tokens:\n",
    "        new_tweet = ' '.join(tweet)\n",
    "        untokenized_tweets.append(new_tweet)\n",
    "        \n",
    "    return untokenized_tweets"
   ]
  },
  {
   "cell_type": "code",
   "execution_count": 38,
   "metadata": {},
   "outputs": [],
   "source": [
    "training_tweets__ = untokenize_tweets(training_tweets_)\n",
    "testing_tweets__ = untokenize_tweets(testing_tweets_)"
   ]
  },
  {
   "cell_type": "code",
   "execution_count": 39,
   "metadata": {
    "scrolled": true
   },
   "outputs": [
    {
     "data": {
      "text/plain": [
       "(['pesso cert val azeved happy_face_or_smiley',\n",
       "  'mim precis contr happy_face_or_smiley vem chuv vem boa dispos happy_face_or_smiley',\n",
       "  'vou faz vide hoj ... pens fal pouc sobr nov met csg sobr pagin algu sugesta quer fal sobr alg cenari nacion laughing_big_grin_or_laugh_with_gl'],\n",
       " ['obrig happy_face_or_smiley',\n",
       "  'vai pa put par happy_face_or_smiley',\n",
       "  'qu descont 14/08 confusion white_medium_starwhite_medium_starwhite_medium_starwhite_medium_starwhite_medium_st globe_with_merid conf link ➔ » compartilh « encontr ofert cupom procur preocup wink_or_smirk cri pagin ofert cupom atual di happy_face_or_smiley'])"
      ]
     },
     "execution_count": 39,
     "metadata": {},
     "output_type": "execute_result"
    }
   ],
   "source": [
    "training_tweets__[0:3], testing_tweets__[0:3]"
   ]
  },
  {
   "cell_type": "markdown",
   "metadata": {},
   "source": [
    "## 4. Métodos"
   ]
  },
  {
   "cell_type": "markdown",
   "metadata": {},
   "source": [
    "### extração de features"
   ]
  },
  {
   "cell_type": "code",
   "execution_count": 40,
   "metadata": {},
   "outputs": [],
   "source": [
    "from sklearn.feature_extraction.text import (\n",
    "    CountVectorizer,\n",
    "    TfidfVectorizer\n",
    ")"
   ]
  },
  {
   "cell_type": "code",
   "execution_count": 41,
   "metadata": {},
   "outputs": [
    {
     "data": {
      "text/plain": [
       "<100000x37504 sparse matrix of type '<class 'numpy.float64'>'\n",
       "\twith 811367 stored elements in Compressed Sparse Row format>"
      ]
     },
     "execution_count": 41,
     "metadata": {},
     "output_type": "execute_result"
    }
   ],
   "source": [
    "# bow: BAG OF WORDS\n",
    "bow_vectorizer = CountVectorizer()\n",
    "# fit on training data\n",
    "bow_vectorizer.fit_transform(training_tweets__)\n",
    "\n",
    "# tf-idf: TERM FREQUENCY - INVERSE DOC FREQUENCY\n",
    "tfidf_vectorizer = TfidfVectorizer()\n",
    "# fit on training data\n",
    "tfidf_vectorizer.fit_transform(training_tweets__)"
   ]
  },
  {
   "cell_type": "markdown",
   "metadata": {},
   "source": [
    "### 4.1 regressão logística com BOW"
   ]
  },
  {
   "cell_type": "code",
   "execution_count": 66,
   "metadata": {},
   "outputs": [],
   "source": [
    "from sklearn.linear_model import LogisticRegression\n",
    "import numpy as np\n",
    "from sklearn.metrics import f1_score, confusion_matrix, roc_auc_score, roc_curve"
   ]
  },
  {
   "cell_type": "code",
   "execution_count": 102,
   "metadata": {},
   "outputs": [],
   "source": [
    "bow_train = bow_vectorizer.transform(training_tweets__)\n",
    "bow_test = bow_vectorizer.transform(testing_tweets__)"
   ]
  },
  {
   "cell_type": "code",
   "execution_count": 103,
   "metadata": {
    "scrolled": true
   },
   "outputs": [
    {
     "name": "stdout",
     "output_type": "stream",
     "text": [
      "regressão logística com bow - f1 score: 0.9842023082262324\n"
     ]
    }
   ],
   "source": [
    "logreg = LogisticRegression(max_iter=2000)\n",
    "logreg.fit(bow_train, training_labels)\n",
    "prediction = logreg.predict(bow_test)\n",
    "print(\"regressão logística com bow - f1 score: {}\".format(f1_score(testing_labels, prediction, average = 'weighted')))"
   ]
  },
  {
   "cell_type": "code",
   "execution_count": 104,
   "metadata": {},
   "outputs": [
    {
     "data": {
      "text/plain": [
       "array([[1660,    0,    6],\n",
       "       [   3, 1595,   69],\n",
       "       [   0,    1, 1665]])"
      ]
     },
     "execution_count": 104,
     "metadata": {},
     "output_type": "execute_result"
    }
   ],
   "source": [
    "confusion_matrix(testing_labels, prediction)"
   ]
  },
  {
   "cell_type": "markdown",
   "metadata": {},
   "source": [
    "### 4.2 regressão logística com TF-IDF"
   ]
  },
  {
   "cell_type": "code",
   "execution_count": 105,
   "metadata": {},
   "outputs": [],
   "source": [
    "tfidf_train = tfidf_vectorizer.transform(training_tweets__)\n",
    "tfidf_test = tfidf_vectorizer.transform(testing_tweets__)"
   ]
  },
  {
   "cell_type": "code",
   "execution_count": 106,
   "metadata": {},
   "outputs": [
    {
     "name": "stdout",
     "output_type": "stream",
     "text": [
      "regressão logística com tf-idf - f1 score: 0.982992695573111\n"
     ]
    }
   ],
   "source": [
    "logreg2 = LogisticRegression(max_iter=2000)\n",
    "logreg2.fit(tfidf_train, training_labels)\n",
    "prediction2 = logreg2.predict(tfidf_test)\n",
    "print(\"regressão logística com tf-idf - f1 score: {}\".format(f1_score(testing_labels, prediction2, average = 'weighted')))"
   ]
  },
  {
   "cell_type": "code",
   "execution_count": 107,
   "metadata": {},
   "outputs": [
    {
     "data": {
      "text/plain": [
       "array([[1659,    0,    7],\n",
       "       [   6, 1590,   71],\n",
       "       [   0,    1, 1665]])"
      ]
     },
     "execution_count": 107,
     "metadata": {},
     "output_type": "execute_result"
    }
   ],
   "source": [
    "confusion_matrix(testing_labels, prediction2)"
   ]
  },
  {
   "cell_type": "markdown",
   "metadata": {},
   "source": [
    "### 4.3 naive bayes com BOW"
   ]
  },
  {
   "cell_type": "code",
   "execution_count": 108,
   "metadata": {},
   "outputs": [],
   "source": [
    "from sklearn.naive_bayes import MultinomialNB"
   ]
  },
  {
   "cell_type": "code",
   "execution_count": 109,
   "metadata": {},
   "outputs": [
    {
     "name": "stdout",
     "output_type": "stream",
     "text": [
      "multinomial naive bayes com bow - f1 score: 0.9743904842919314\n"
     ]
    }
   ],
   "source": [
    "model = MultinomialNB()\n",
    "model.fit(bow_train, training_labels)\n",
    "prediction3 = model.predict(bow_test)\n",
    "print(\"multinomial naive bayes com bow - f1 score: {}\".format(f1_score(testing_labels, prediction3, average = 'weighted')))"
   ]
  },
  {
   "cell_type": "code",
   "execution_count": 110,
   "metadata": {},
   "outputs": [
    {
     "data": {
      "text/plain": [
       "array([[1654,   10,    2],\n",
       "       [  41, 1617,    9],\n",
       "       [  16,   50, 1600]])"
      ]
     },
     "execution_count": 110,
     "metadata": {},
     "output_type": "execute_result"
    }
   ],
   "source": [
    "confusion_matrix(testing_labels, prediction3)"
   ]
  },
  {
   "cell_type": "markdown",
   "metadata": {},
   "source": [
    "### 4.4 naive bayes com TF-IDF"
   ]
  },
  {
   "cell_type": "code",
   "execution_count": 111,
   "metadata": {},
   "outputs": [
    {
     "name": "stdout",
     "output_type": "stream",
     "text": [
      "multinomial naive bayes com tf-idf - f1 score: 0.9390937889142988\n"
     ]
    }
   ],
   "source": [
    "model = MultinomialNB()\n",
    "model.fit(tfidf_train, training_labels)\n",
    "prediction4 = model.predict(tfidf_test)\n",
    "print(\"multinomial naive bayes com tf-idf - f1 score: {}\".format(f1_score(testing_labels, prediction4, average = 'weighted')))"
   ]
  },
  {
   "cell_type": "code",
   "execution_count": 112,
   "metadata": {},
   "outputs": [
    {
     "data": {
      "text/plain": [
       "array([[1561,   89,   16],\n",
       "       [  96, 1541,   30],\n",
       "       [  21,   53, 1592]])"
      ]
     },
     "execution_count": 112,
     "metadata": {},
     "output_type": "execute_result"
    }
   ],
   "source": [
    "confusion_matrix(testing_labels, prediction4)"
   ]
  }
 ],
 "metadata": {
  "kernelspec": {
   "display_name": "Python 3",
   "language": "python",
   "name": "python3"
  },
  "language_info": {
   "codemirror_mode": {
    "name": "ipython",
    "version": 3
   },
   "file_extension": ".py",
   "mimetype": "text/x-python",
   "name": "python",
   "nbconvert_exporter": "python",
   "pygments_lexer": "ipython3",
   "version": "3.6.10"
  }
 },
 "nbformat": 4,
 "nbformat_minor": 4
}
